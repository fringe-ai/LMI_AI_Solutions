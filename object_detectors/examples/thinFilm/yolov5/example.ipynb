{
 "cells": [
  {
   "cell_type": "markdown",
   "id": "c194cb4b",
   "metadata": {},
   "source": [
    "# 1. Activate the following environments before running this notebook"
   ]
  },
  {
   "cell_type": "code",
   "execution_count": null,
   "id": "3140fd41",
   "metadata": {},
   "outputs": [],
   "source": [
    "#assume that you are running this in the 'examples/yolov5'"
   ]
  },
  {
   "cell_type": "markdown",
   "id": "eba55ee1",
   "metadata": {},
   "source": [
    ">1a. python virtual environments"
   ]
  },
  {
   "cell_type": "markdown",
   "id": "597c2b2d",
   "metadata": {},
   "source": [
    ">1b. lmi_ai.env"
   ]
  },
  {
   "cell_type": "markdown",
   "id": "c0994ee4",
   "metadata": {},
   "source": [
    "# 2. Run the inference: "
   ]
  },
  {
   "cell_type": "code",
   "execution_count": null,
   "id": "e4f2d3f0",
   "metadata": {},
   "outputs": [],
   "source": [
    "!python ../../../yolov5/detect.py --source ./data/2022-01-08_640_yolo/images --weights ./training/2022-01-08_640/weights/best.pt --conf-thres 0.5 --img 640 --project ./validation --name 2022-01-08_640 --save-csv --exist-ok"
   ]
  },
  {
   "cell_type": "code",
   "execution_count": null,
   "id": "98d51cdb",
   "metadata": {},
   "outputs": [],
   "source": [
    "import cv2\n",
    "import glob\n",
    "path_imgs = glob.glob('./validation/2022-01-08_640/*.png')\n",
    "for i in [1,50,100,150]:\n",
    "    #im = cv2.imread(path_imgs[i])\n",
    "    #cv2.imshow('im',im)\n",
    "    #!eog path_imgs[i]"
   ]
  },
  {
   "cell_type": "code",
   "execution_count": null,
   "id": "028001be",
   "metadata": {},
   "outputs": [],
   "source": [
    "TODO: vgg annotator already loaded with images ,labels"
   ]
  },
  {
   "cell_type": "markdown",
   "id": "fa6e7736",
   "metadata": {},
   "source": [
    "# 3. Prepare datasets for training"
   ]
  },
  {
   "cell_type": "markdown",
   "id": "2eeac8e3",
   "metadata": {},
   "source": [
    "## 3a. Resize images"
   ]
  },
  {
   "cell_type": "code",
   "execution_count": 3,
   "id": "c90239d4",
   "metadata": {
    "scrolled": false
   },
   "outputs": [
    {
     "name": "stdout",
     "output_type": "stream",
     "text": [
      "python: can't open file 'resize_images_with_csv.py': [Errno 2] No such file or directory\n"
     ]
    }
   ],
   "source": [
    "!python -m resize_images_with_csv -i ./data/allImages_1024 --out_imsz 640,640 -o ./data/2022-01-08_640"
   ]
  },
  {
   "cell_type": "markdown",
   "id": "e8d246b3",
   "metadata": {},
   "source": [
    "## 3b. Convert to YOLO file format"
   ]
  },
  {
   "cell_type": "code",
   "execution_count": null,
   "id": "0d7495e8",
   "metadata": {},
   "outputs": [],
   "source": [
    "%run ../../../yolov5/preprocess/convert_data_to_yolo.py -i ./data/2022-01-08_640 -o ./data/2022-01-08_640_yolo"
   ]
  },
  {
   "cell_type": "markdown",
   "id": "19081338",
   "metadata": {},
   "source": [
    "# 4. Download Pre-trained COCO model"
   ]
  },
  {
   "cell_type": "code",
   "execution_count": null,
   "id": "beeee919",
   "metadata": {},
   "outputs": [],
   "source": [
    "%rm -r ./pretrained-models\n",
    "%mkdir ./pretrained-models\n",
    "!wget https://github.com/ultralytics/yolov5/releases/download/v6.0/yolov5s.pt -P ./pretrained-models"
   ]
  },
  {
   "cell_type": "markdown",
   "id": "77b1ae9b",
   "metadata": {},
   "source": [
    "# 5. ensure the order of class names are same"
   ]
  },
  {
   "cell_type": "code",
   "execution_count": null,
   "id": "70e29f23",
   "metadata": {},
   "outputs": [],
   "source": [
    "!cat ./config/2022-01-08_640.yaml"
   ]
  },
  {
   "cell_type": "code",
   "execution_count": null,
   "id": "1e6cfd1c",
   "metadata": {},
   "outputs": [],
   "source": [
    "!cat ./data/2022-01-08_640_yolo/class_map.json"
   ]
  },
  {
   "cell_type": "markdown",
   "id": "c5161a49",
   "metadata": {},
   "source": [
    "# 6. Train the model"
   ]
  },
  {
   "cell_type": "code",
   "execution_count": null,
   "id": "69556c00",
   "metadata": {},
   "outputs": [],
   "source": [
    "%run ../../../yolov5/train.py --img 640 --batch 16 --epoch 600 --data ./config/2022-01-08_640.yaml --weights ./pretrained-models/yolov5s.pt --project ./training --name 2022-01-08_640_temp --exist-ok"
   ]
  },
  {
   "cell_type": "code",
   "execution_count": null,
   "id": "75de3c5a",
   "metadata": {},
   "outputs": [],
   "source": [
    "TODO: IOU"
   ]
  }
 ],
 "metadata": {
  "kernelspec": {
   "display_name": "Python 3 (ipykernel)",
   "language": "python",
   "name": "python3"
  },
  "language_info": {
   "codemirror_mode": {
    "name": "ipython",
    "version": 3
   },
   "file_extension": ".py",
   "mimetype": "text/x-python",
   "name": "python",
   "nbconvert_exporter": "python",
   "pygments_lexer": "ipython3",
   "version": "3.8.10"
  }
 },
 "nbformat": 4,
 "nbformat_minor": 5
}
