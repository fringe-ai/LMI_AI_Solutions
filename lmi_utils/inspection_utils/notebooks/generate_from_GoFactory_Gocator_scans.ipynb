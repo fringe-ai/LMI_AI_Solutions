{
 "cells": [
  {
   "cell_type": "markdown",
   "metadata": {},
   "source": [
    "# Extract Data from GoFactory Gocator Data\n",
    "\n",
    "Inputs:\n",
    "- path to source directory including image/ and surface/ subdirectories\n",
    "- image/ contains .jpg files for intensity images (uint8)\n",
    "- surface contains .tar files that include Gocator profile data (uint16) and metadata for creating height maps and point clouds\n",
    "\n",
    "Outputs: \n",
    "- new directory called surface_extract\n",
    "- extracted profile raw data (uint16)\n",
    "- metadata including reconstruction parameters\n",
    "- hmap (3 channel uint8)\n",
    "- blend: intensity image + hmap (3 channel uint8)\n",
    "- warp: blend stretched to true aspect ratio\n",
    "- pointcloud: pcd file from profile + metadata and intensity images"
   ]
  },
  {
   "cell_type": "markdown",
   "metadata": {},
   "source": [
    "*Set input data path.*"
   ]
  },
  {
   "cell_type": "code",
   "execution_count": null,
   "metadata": {},
   "outputs": [],
   "source": [
    "input_data_path='./'"
   ]
  },
  {
   "cell_type": "markdown",
   "metadata": {},
   "source": [
    "*Add lmi_utils to your current path*"
   ]
  },
  {
   "cell_type": "code",
   "execution_count": null,
   "metadata": {},
   "outputs": [],
   "source": [
    "import os\n",
    "import sys\n",
    "home_directory = os.path.expanduser('~')\n",
    "sys.path.append(os.path.join(home_directory,'projects','LMI_AI_Solutions','lmi_utils'))"
   ]
  },
  {
   "cell_type": "markdown",
   "metadata": {},
   "source": [
    "*Import dependencies*"
   ]
  },
  {
   "cell_type": "code",
   "execution_count": null,
   "metadata": {},
   "outputs": [],
   "source": [
    "import glob\n",
    "import tarfile\n",
    "import cv2\n",
    "from inspection_utils.profile_to_hmap import preprocess_hmap\n",
    "from image_utils.img_stretch import stretch\n",
    "import numpy as np\n",
    "import json\n",
    "import open3d"
   ]
  },
  {
   "cell_type": "markdown",
   "metadata": {},
   "source": [
    "*Create a function to convert profile data and image data to a pointcloud that includes x,y,z, and rgb data for each point*"
   ]
  },
  {
   "cell_type": "code",
   "execution_count": null,
   "metadata": {},
   "outputs": [],
   "source": [
    "def generate_pcd(profile,rgb_image,path):\n",
    "    MISSING_PIXELS=0\n",
    "    with open(os.path.join(path, \"metadata.json\"), \"r\") as f:\n",
    "        metadata = json.load(f)\n",
    "    resolution = metadata[\"resolution\"]\n",
    "    offset = metadata[\"offset\"]\n",
    "    shape = profile.shape\n",
    "    x, y, z, rgb = [], [], [], []        \n",
    "    i = 0\n",
    "    for yi in range(shape[0]):\n",
    "        for xi in range(shape[1]):\n",
    "            if profile[yi][xi] != MISSING_PIXELS:\n",
    "                x.append(offset[0] + xi * resolution[0])\n",
    "                y.append(offset[1] + yi * resolution[1])\n",
    "                z.append(offset[2] + profile[yi][xi] * resolution[2])\n",
    "                rgb.append(rgb_image[yi][xi]/255.0)\n",
    "                i += 1\n",
    "    np_points = np.empty((i, 3))\n",
    "    np_points[:, 0] = np.array(x)\n",
    "    np_points[:, 1] = np.array(y)\n",
    "    np_points[:, 2] = np.array(z)\n",
    "    np_rgb=np.array(rgb) \n",
    "    pcd = open3d.geometry.PointCloud()\n",
    "    pcd.points = open3d.utility.Vector3dVector(np_points)\n",
    "    pcd.colors = open3d.utility.Vector3dVector(np_rgb)\n",
    "    # fname=os.path.split(path)[1]\n",
    "    fname='pointcloud'\n",
    "    open3d.io.write_point_cloud(os.path.join(path, fname+'.pcd'), pcd)\n",
    "    return resolution\n"
   ]
  },
  {
   "cell_type": "markdown",
   "metadata": {},
   "source": [
    "*Set up directories*"
   ]
  },
  {
   "cell_type": "code",
   "execution_count": null,
   "metadata": {},
   "outputs": [],
   "source": [
    "# Path Definitions\n",
    "# Existing Directories\n",
    "image_path=os.path.join(input_data_path,'image')\n",
    "surface_path=os.path.join(input_data_path,'surface')\n",
    "# New Directories\n",
    "surface_extract_path=os.path.join(input_data_path,'surface_extract')\n",
    "# Create New Directories\n",
    "if not os.path.exists(surface_extract_path):\n",
    "    os.makedirs(surface_extract_path,exist_ok=True)"
   ]
  },
  {
   "cell_type": "markdown",
   "metadata": {},
   "source": [
    "*Generate files from input data*"
   ]
  },
  {
   "cell_type": "code",
   "execution_count": null,
   "metadata": {},
   "outputs": [],
   "source": [
    "intensity_image_files=glob.glob(os.path.join(image_path,'*.jpg'))\n",
    "for img_file in intensity_image_files:\n",
    "    # Extract Gocator scans from tar file\n",
    "    fname=os.path.split(img_file)[1].replace('gadget2d.jpg','gadget3d.tar')\n",
    "    file_path=os.path.join(surface_path,fname)\n",
    "    with tarfile.open(file_path, 'r:') as tar:\n",
    "        dirname=fname.replace('.gadget3d.tar','')\n",
    "        profile_dir=os.path.join(surface_extract_path,dirname)\n",
    "        tar.extractall(path=profile_dir)\n",
    "    print(f'[INFO].tar Extraction complete: {fname}')\n",
    "    # Generate hmap from surface data\n",
    "    profile_path=glob.glob(os.path.join(profile_dir,'*.png'))[0]\n",
    "    img_p=cv2.imread(profile_path,-1)\n",
    "    ind_nonzero=np.where(img_p!=0)\n",
    "    ind_zero=np.where(img_p==0)\n",
    "    max_height=img_p[ind_nonzero].max()\n",
    "    hmap=preprocess_hmap(img_p,map_choice='rainbow-med',global_max=None,remove_outliers=True)\n",
    "    img_bgr=cv2.cvtColor(hmap,cv2.COLOR_RGB2BGR)\n",
    "    path=os.path.split(profile_path)\n",
    "    fname='hmap.png'\n",
    "    cv2.imwrite(os.path.join(path[0],fname),img_bgr)\n",
    "    # Blend hmap with intensity image\n",
    "    img_inten=cv2.imread(img_file)\n",
    "    img_inten=cv2.cvtColor(img_inten,cv2.COLOR_BGR2RGB)\n",
    "    alpha=0.9\n",
    "    img_blend=cv2.addWeighted(img_inten,alpha,hmap,1-alpha, 0)\n",
    "    fname='blend.png'\n",
    "    cv2.imwrite(os.path.join(path[0],fname),cv2.cvtColor(img_blend,cv2.COLOR_RGB2BGR))\n",
    "    # Generate pcd\n",
    "    resolution=generate_pcd(img_p,img_inten,path[0])\n",
    "    # Warp the image to true aspect ratio\n",
    "    wh_stretch=resolution[1]/resolution[0]\n",
    "    img_stretch=stretch(img_blend,wh_stretch)\n",
    "    fname='warp.png'\n",
    "    cv2.imwrite(os.path.join(path[0],fname),cv2.cvtColor(img_stretch,cv2.COLOR_RGB2BGR))"
   ]
  }
 ],
 "metadata": {
  "kernelspec": {
   "display_name": "Python 3",
   "language": "python",
   "name": "python3"
  },
  "language_info": {
   "codemirror_mode": {
    "name": "ipython",
    "version": 3
   },
   "file_extension": ".py",
   "mimetype": "text/x-python",
   "name": "python",
   "nbconvert_exporter": "python",
   "pygments_lexer": "ipython3",
   "version": "3.10.12"
  }
 },
 "nbformat": 4,
 "nbformat_minor": 2
}
